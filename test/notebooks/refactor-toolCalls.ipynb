{
 "cells": [
  {
   "cell_type": "markdown",
   "metadata": {},
   "source": [
    "Act as senior Software Engineer specialized in developing VSCode extensions. I have extended the codebase of a VSCode extension to support function calling over the API. The new implementation works, but in the process, I also broke quite a few best practices. Please review my codebase and list the most important refactoring measures I apply before merging those changes into the final release version."
   ]
  }
 ],
 "metadata": {
  "chatcompletion": {
   "model": "gpt-4-turbo-preview"
  }
 },
 "nbformat": 4,
 "nbformat_minor": 2
}
