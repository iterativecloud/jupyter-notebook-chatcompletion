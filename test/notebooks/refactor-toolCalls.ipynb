{
 "cells": [
  {
   "cell_type": "markdown",
   "metadata": {},
   "source": [
    "Say hello"
   ]
  },
  {
   "cell_type": "markdown",
   "metadata": {
    "tags": [
     "assistant"
    ]
   },
   "source": [
    "Hello! How can I assist you today?"
   ]
  }
 ],
 "metadata": {
  "chatcompletion": {
   "model": "gpt-4-turbo-preview",
   "temperature": "0"
  },
  "language_info": {
   "name": "python"
  }
 },
 "nbformat": 4,
 "nbformat_minor": 2
}
